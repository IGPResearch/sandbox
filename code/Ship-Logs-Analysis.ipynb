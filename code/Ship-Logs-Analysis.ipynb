{
 "cells": [
  {
   "cell_type": "markdown",
   "metadata": {},
   "source": [
    "# Alliance logs parsing"
   ]
  },
  {
   "cell_type": "markdown",
   "metadata": {},
   "source": [
    "Import some basic packages"
   ]
  },
  {
   "cell_type": "code",
   "execution_count": 1,
   "metadata": {},
   "outputs": [],
   "source": [
    "from datetime import datetime\n",
    "import pandas as pd\n",
    "from pathlib import Path\n",
    "import matplotlib.pyplot as plt"
   ]
  },
  {
   "cell_type": "markdown",
   "metadata": {},
   "source": [
    "Also, we need a NMEA-parsing package called `pynmea2`. I modified the original pynmea2 package a bit so that it can match Alliance's logs.\n",
    "\n",
    "To install \"my version\", run this command (in Anaconda prompt on Windows):\n",
    "```bash\n",
    "pip install git+https://github.com/IGPResearch/pynmea2.git --force-reinstall\n",
    "```\n",
    "If you have problems fetching it from GitHub, I can zip it up and put it on the FTP server or send it via email."
   ]
  },
  {
   "cell_type": "markdown",
   "metadata": {},
   "source": [
    "Once it's installed, import it:"
   ]
  },
  {
   "cell_type": "code",
   "execution_count": 2,
   "metadata": {},
   "outputs": [],
   "source": [
    "import pynmea2"
   ]
  },
  {
   "cell_type": "markdown",
   "metadata": {},
   "source": [
    "Select a date"
   ]
  },
  {
   "cell_type": "code",
   "execution_count": 3,
   "metadata": {},
   "outputs": [],
   "source": [
    "date = datetime(2018, 2, 11)"
   ]
  },
  {
   "cell_type": "code",
   "execution_count": 4,
   "metadata": {},
   "outputs": [],
   "source": [
    "fname = Path(f'/path/to/alliance/logs/{date:%Y%m%d}.log')"
   ]
  },
  {
   "cell_type": "code",
   "execution_count": 5,
   "metadata": {},
   "outputs": [],
   "source": [
    "ggas = {'time': [], 'lon': [], 'lat': []}\n",
    "hdts = []\n",
    "with fname.open('r') as f:\n",
    "    for line in f.readlines():\n",
    "        try:\n",
    "            msg = pynmea2.NMEASentence.parse(line)\n",
    "            if isinstance(msg, pynmea2.types.talker.GGA):\n",
    "                ggas['time'].append(datetime.combine(date, msg.timestamp))\n",
    "                ggas['lon'].append(msg.longitude)\n",
    "                ggas['lat'].append(msg.latitude)\n",
    "            elif isinstance(msg, pynmea2.types.talker.HDT):\n",
    "                hdts.append(msg)\n",
    "        except pynmea2.ParseError:\n",
    "            pass"
   ]
  },
  {
   "cell_type": "code",
   "execution_count": 6,
   "metadata": {},
   "outputs": [],
   "source": [
    "gga_df = pd.DataFrame(data=ggas)"
   ]
  },
  {
   "cell_type": "code",
   "execution_count": 7,
   "metadata": {},
   "outputs": [
    {
     "data": {
      "text/html": [
       "<div>\n",
       "<style scoped>\n",
       "    .dataframe tbody tr th:only-of-type {\n",
       "        vertical-align: middle;\n",
       "    }\n",
       "\n",
       "    .dataframe tbody tr th {\n",
       "        vertical-align: top;\n",
       "    }\n",
       "\n",
       "    .dataframe thead th {\n",
       "        text-align: right;\n",
       "    }\n",
       "</style>\n",
       "<table border=\"1\" class=\"dataframe\">\n",
       "  <thead>\n",
       "    <tr style=\"text-align: right;\">\n",
       "      <th></th>\n",
       "      <th>lat</th>\n",
       "      <th>lon</th>\n",
       "      <th>time</th>\n",
       "    </tr>\n",
       "  </thead>\n",
       "  <tbody>\n",
       "    <tr>\n",
       "      <th>0</th>\n",
       "      <td>65.684900</td>\n",
       "      <td>-18.075515</td>\n",
       "      <td>2018-02-11 00:00:00</td>\n",
       "    </tr>\n",
       "    <tr>\n",
       "      <th>1</th>\n",
       "      <td>65.684900</td>\n",
       "      <td>-18.075515</td>\n",
       "      <td>2018-02-11 00:00:01</td>\n",
       "    </tr>\n",
       "    <tr>\n",
       "      <th>2</th>\n",
       "      <td>65.684900</td>\n",
       "      <td>-18.075515</td>\n",
       "      <td>2018-02-11 00:00:02</td>\n",
       "    </tr>\n",
       "    <tr>\n",
       "      <th>3</th>\n",
       "      <td>65.684900</td>\n",
       "      <td>-18.075515</td>\n",
       "      <td>2018-02-11 00:00:03</td>\n",
       "    </tr>\n",
       "    <tr>\n",
       "      <th>4</th>\n",
       "      <td>65.684900</td>\n",
       "      <td>-18.075515</td>\n",
       "      <td>2018-02-11 00:00:04</td>\n",
       "    </tr>\n",
       "    <tr>\n",
       "      <th>5</th>\n",
       "      <td>65.684900</td>\n",
       "      <td>-18.075515</td>\n",
       "      <td>2018-02-11 00:00:05</td>\n",
       "    </tr>\n",
       "    <tr>\n",
       "      <th>6</th>\n",
       "      <td>65.684900</td>\n",
       "      <td>-18.075515</td>\n",
       "      <td>2018-02-11 00:00:06</td>\n",
       "    </tr>\n",
       "    <tr>\n",
       "      <th>7</th>\n",
       "      <td>65.684898</td>\n",
       "      <td>-18.075515</td>\n",
       "      <td>2018-02-11 00:00:07</td>\n",
       "    </tr>\n",
       "    <tr>\n",
       "      <th>8</th>\n",
       "      <td>65.684898</td>\n",
       "      <td>-18.075515</td>\n",
       "      <td>2018-02-11 00:00:08</td>\n",
       "    </tr>\n",
       "    <tr>\n",
       "      <th>9</th>\n",
       "      <td>65.684898</td>\n",
       "      <td>-18.075515</td>\n",
       "      <td>2018-02-11 00:00:09</td>\n",
       "    </tr>\n",
       "  </tbody>\n",
       "</table>\n",
       "</div>"
      ],
      "text/plain": [
       "         lat        lon                time\n",
       "0  65.684900 -18.075515 2018-02-11 00:00:00\n",
       "1  65.684900 -18.075515 2018-02-11 00:00:01\n",
       "2  65.684900 -18.075515 2018-02-11 00:00:02\n",
       "3  65.684900 -18.075515 2018-02-11 00:00:03\n",
       "4  65.684900 -18.075515 2018-02-11 00:00:04\n",
       "5  65.684900 -18.075515 2018-02-11 00:00:05\n",
       "6  65.684900 -18.075515 2018-02-11 00:00:06\n",
       "7  65.684898 -18.075515 2018-02-11 00:00:07\n",
       "8  65.684898 -18.075515 2018-02-11 00:00:08\n",
       "9  65.684898 -18.075515 2018-02-11 00:00:09"
      ]
     },
     "execution_count": 7,
     "metadata": {},
     "output_type": "execute_result"
    }
   ],
   "source": [
    "gga_df.head(10)"
   ]
  }
 ],
 "metadata": {
  "kernelspec": {
   "display_name": "Python [conda env:IGP]",
   "language": "python",
   "name": "conda-env-IGP-py"
  },
  "language_info": {
   "codemirror_mode": {
    "name": "ipython",
    "version": 3
   },
   "file_extension": ".py",
   "mimetype": "text/x-python",
   "name": "python",
   "nbconvert_exporter": "python",
   "pygments_lexer": "ipython3",
   "version": "3.6.4"
  }
 },
 "nbformat": 4,
 "nbformat_minor": 2
}
