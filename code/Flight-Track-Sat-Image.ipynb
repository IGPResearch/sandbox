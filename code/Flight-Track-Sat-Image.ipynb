{
 "cells": [
  {
   "cell_type": "code",
   "execution_count": null,
   "metadata": {},
   "outputs": [],
   "source": [
    "import warnings\n",
    "warnings.filterwarnings('ignore')"
   ]
  },
  {
   "cell_type": "code",
   "execution_count": 2,
   "metadata": {},
   "outputs": [],
   "source": [
    "from datetime import datetime\n",
    "import cartopy.crs as ccrs\n",
    "import numpy as np\n",
    "import matplotlib.pyplot as plt\n",
    "from matplotlib.collections import LineCollection\n",
    "import matplotlib.patheffects as PathEffects\n",
    "from pathlib import Path\n",
    "import xarray as xr\n",
    "# local modules\n",
    "import mypaths\n",
    "from common_defs import FLIGHTS, MASIN_FILE_MASK\n",
    "import sat_tools\n",
    "from cart import ukmo_igp_map"
   ]
  },
  {
   "cell_type": "code",
   "execution_count": 3,
   "metadata": {},
   "outputs": [],
   "source": [
    "flight_date = datetime(2018, 3, 9, 11)\n",
    "flight_id = [k for k, v in FLIGHTS.items() if v==f'{flight_date:%Y%m%d}'][0]"
   ]
  },
  {
   "cell_type": "code",
   "execution_count": 4,
   "metadata": {},
   "outputs": [],
   "source": [
    "sat_opt = dict(instrument='avhrr', platform='metopb', channel='band2_vis')"
   ]
  },
  {
   "cell_type": "code",
   "execution_count": 5,
   "metadata": {},
   "outputs": [],
   "source": [
    "# %debug\n",
    "url = sat_tools.get_nearest_url(flight_date, **sat_opt)"
   ]
  },
  {
   "cell_type": "code",
   "execution_count": 6,
   "metadata": {},
   "outputs": [],
   "source": [
    "sat_image_name = mypaths.sat_dir / f'{flight_date:%Y%m%d}' / Path(url).name\n",
    "if not sat_image_name.is_file():\n",
    "    stat = sat_tools.download_file(url=url, save_dir=mypaths.sat_dir/f'{flight_date:%Y%m%d}')\n",
    "    assert stat == 0"
   ]
  },
  {
   "cell_type": "code",
   "execution_count": 7,
   "metadata": {},
   "outputs": [],
   "source": [
    "im, extent, crs = sat_tools.read_raster_stereographic(str(sat_image_name))"
   ]
  },
  {
   "cell_type": "code",
   "execution_count": 8,
   "metadata": {},
   "outputs": [],
   "source": [
    "projection = ccrs.Stereographic(central_latitude=68.5, central_longitude=-21)\n",
    "# xticks = list(np.arange(-180, 180, 5))\n",
    "# yticks = list(np.arange(0, 90, 1))\n",
    "mapkw = dict(transform=ccrs.PlateCarree())"
   ]
  },
  {
   "cell_type": "code",
   "execution_count": 9,
   "metadata": {},
   "outputs": [],
   "source": [
    "gridline_kw = dict(linestyle=(0, (10, 10)), linewidth=0.5, color='C9')"
   ]
  },
  {
   "cell_type": "code",
   "execution_count": 10,
   "metadata": {},
   "outputs": [],
   "source": [
    "stride = 10"
   ]
  },
  {
   "cell_type": "code",
   "execution_count": 11,
   "metadata": {},
   "outputs": [],
   "source": [
    "masin_data_path = mypaths.masin_dir / f'flight{flight_id}' / MASIN_FILE_MASK.format(flight_date=flight_date,\n",
    "                                                                                    flight_id=flight_id)"
   ]
  },
  {
   "cell_type": "code",
   "execution_count": 12,
   "metadata": {},
   "outputs": [],
   "source": [
    "ds = xr.open_dataset(masin_data_path, decode_times=False)"
   ]
  },
  {
   "cell_type": "code",
   "execution_count": 13,
   "metadata": {},
   "outputs": [],
   "source": [
    "x = ds.LON_OXTS[~ds.ALT_OXTS.isnull()].values#[8000:]\n",
    "y = ds.LAT_OXTS[~ds.ALT_OXTS.isnull()].values#[8000:]\n",
    "z = ds.ALT_OXTS[~ds.ALT_OXTS.isnull()].values#[8000:]"
   ]
  },
  {
   "cell_type": "code",
   "execution_count": 17,
   "metadata": {},
   "outputs": [],
   "source": [
    "cmap = plt.cm.plasma"
   ]
  },
  {
   "cell_type": "code",
   "execution_count": null,
   "metadata": {},
   "outputs": [],
   "source": [
    "fig = plt.figure(figsize=(15, 7))\n",
    "ax = ukmo_igp_map(fig, coast=dict(scale='50m', facecolor='none', edgecolor='C8'), **gridline_kw)\n",
    "\n",
    "h = ax.imshow(im[::stride, ::stride], origin='upper', extent=extent, transform=crs, cmap='gray', interpolation='nearest')\n",
    "\n",
    "points = np.array([x, y]).T.reshape(-1, 1, 2)\n",
    "segments = np.concatenate([points[:-1], points[1:]], axis=1)\n",
    "\n",
    "lc = LineCollection(segments, cmap=cmap, linewidth=3, path_effects=[\n",
    "        PathEffects.withStroke(linewidth=5, foreground=\"w\")],\n",
    "                    norm=plt.Normalize(np.nanmin(z), np.nanmax(z)), **mapkw)\n",
    "lc.set_array(z)\n",
    "h = ax.add_collection(lc)\n",
    "cb = fig.colorbar(h, ax=ax, shrink=0.9)\n",
    "cb.ax.tick_params(labelsize=20)\n",
    "cb.ax.set_title('Altitude (ft)');"
   ]
  },
  {
   "cell_type": "code",
   "execution_count": 16,
   "metadata": {},
   "outputs": [],
   "source": [
    "fig.savefig(mypaths.plotdir / f'flight_{flight_id}_{\"_\".join(sat_opt.values())}.png', dpi=100, bbox_inches='tight')"
   ]
  }
 ],
 "metadata": {
  "kernelspec": {
   "display_name": "Python [conda env:igp]",
   "language": "python",
   "name": "conda-env-igp-py"
  },
  "language_info": {
   "codemirror_mode": {
    "name": "ipython",
    "version": 3
   },
   "file_extension": ".py",
   "mimetype": "text/x-python",
   "name": "python",
   "nbconvert_exporter": "python",
   "pygments_lexer": "ipython3",
   "version": "3.6.5"
  }
 },
 "nbformat": 4,
 "nbformat_minor": 2
}
