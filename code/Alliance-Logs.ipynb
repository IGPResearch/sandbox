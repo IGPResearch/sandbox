{
 "cells": [
  {
   "cell_type": "markdown",
   "metadata": {},
   "source": [
    "# Alliance log parsing"
   ]
  },
  {
   "cell_type": "markdown",
   "metadata": {},
   "source": [
    "Import some basic packages"
   ]
  },
  {
   "cell_type": "code",
   "execution_count": 42,
   "metadata": {},
   "outputs": [],
   "source": [
    "from datetime import datetime, timedelta\n",
    "import numpy as np\n",
    "import pandas as pd\n",
    "from pathlib import Path\n",
    "import matplotlib.pyplot as plt"
   ]
  },
  {
   "cell_type": "code",
   "execution_count": 2,
   "metadata": {},
   "outputs": [],
   "source": [
    "from tqdm import tqdm_notebook as tqdm"
   ]
  },
  {
   "cell_type": "code",
   "execution_count": 3,
   "metadata": {},
   "outputs": [],
   "source": [
    "import pynmea2"
   ]
  },
  {
   "cell_type": "code",
   "execution_count": 4,
   "metadata": {},
   "outputs": [],
   "source": [
    "import mypaths"
   ]
  },
  {
   "cell_type": "code",
   "execution_count": 5,
   "metadata": {},
   "outputs": [],
   "source": [
    "date = datetime(2018, 2, 23)"
   ]
  },
  {
   "cell_type": "code",
   "execution_count": 6,
   "metadata": {},
   "outputs": [],
   "source": [
    "time_range = pd.date_range(start=date, freq='S', periods=86400).to_series().to_frame(name='time')\n",
    "# time_range.index = pd.Index(range(86400))"
   ]
  },
  {
   "cell_type": "code",
   "execution_count": 7,
   "metadata": {},
   "outputs": [],
   "source": [
    "fname = mypaths.igp_data_dir / 'nmea_logs' / f'{date:%Y%m%d}.log'"
   ]
  },
  {
   "cell_type": "code",
   "execution_count": 31,
   "metadata": {},
   "outputs": [
    {
     "data": {
      "application/vnd.jupyter.widget-view+json": {
       "model_id": "269cc25ffd8b480d8c2b5fc0d1edd3b4",
       "version_major": 2,
       "version_minor": 0
      },
      "text/plain": [
       "HBox(children=(IntProgress(value=0, max=1075245), HTML(value='')))"
      ]
     },
     "metadata": {},
     "output_type": "display_data"
    },
    {
     "name": "stdout",
     "output_type": "stream",
     "text": [
      "\n"
     ]
    }
   ],
   "source": [
    "ggas = {'datetime': [], 'timestamp': [], 'lon': [], 'lat': []}\n",
    "hdts = {'datetime': [], 'heading': []}\n",
    "inmwv = {'datetime': [], 'wind_speed': [], 'wind_angle': [], 'status': [], 'reference': []}\n",
    "with fname.open('r') as f:\n",
    "    for line in tqdm(f.readlines()):\n",
    "        try:\n",
    "            msg = pynmea2.NMEASentence.parse(line)\n",
    "            if isinstance(msg, pynmea2.talker.GGA):\n",
    "#                 d1 = datetime.combine(date, msg.timestamp)\n",
    "#                 d2 = datetime.strptime(msg.datetime_str, '%Y%m%d%H%M%S')\n",
    "                \n",
    "#                 if d1 != d2:\n",
    "#                     print(msg)\n",
    "                \n",
    "                ggas['datetime'].append(msg.datetime_str)\n",
    "                ggas['timestamp'].append(datetime.combine(date, msg.timestamp))\n",
    "                ggas['lon'].append(msg.longitude)\n",
    "                ggas['lat'].append(msg.latitude)\n",
    "            elif isinstance(msg, pynmea2.talker.HDT):\n",
    "                hdts['datetime'].append(msg.datetime_str)\n",
    "                hdts['heading'].append(float(msg.heading))\n",
    "            elif isinstance(msg, pynmea2.talker.MWV):\n",
    "                inmwv['datetime'].append(msg.datetime_str)\n",
    "                inmwv['wind_speed'].append(float(msg.wind_speed))\n",
    "                inmwv['wind_angle'].append(float(msg.wind_angle))\n",
    "                inmwv['status'].append(str(msg.status))\n",
    "                inmwv['reference'].append(str(msg.reference))\n",
    "        except pynmea2.ParseError:\n",
    "            pass"
   ]
  },
  {
   "cell_type": "code",
   "execution_count": 32,
   "metadata": {},
   "outputs": [
    {
     "data": {
      "text/plain": [
       "(86397, 86412, 86401)"
      ]
     },
     "execution_count": 32,
     "metadata": {},
     "output_type": "execute_result"
    }
   ],
   "source": [
    "len(inmwv['datetime']), len(ggas['datetime']), len(hdts['datetime'])"
   ]
  },
  {
   "cell_type": "code",
   "execution_count": 55,
   "metadata": {},
   "outputs": [],
   "source": [
    "gga_df = pd.DataFrame(data=ggas)\n",
    "gga_df['datetime'] = gga_df['datetime'].astype(int).apply(lambda x: datetime(1970, 1, 1) + timedelta(seconds=x))"
   ]
  },
  {
   "cell_type": "code",
   "execution_count": 56,
   "metadata": {},
   "outputs": [],
   "source": [
    "hdt_df = pd.DataFrame(data=hdts)\n",
    "hdt_df['datetime'] = hdt_df['datetime'].astype(int).apply(lambda x: datetime(1970, 1, 1) + timedelta(seconds=x))\n",
    "# hdt_df['heading'] = hdt_df['heading'].astype(float)"
   ]
  },
  {
   "cell_type": "code",
   "execution_count": 57,
   "metadata": {},
   "outputs": [],
   "source": [
    "inmwv_df = pd.DataFrame(data=inmwv)\n",
    "inmwv_df['datetime'] = inmwv_df['datetime'].astype(int).apply(lambda x: datetime(1970, 1, 1) + timedelta(seconds=x))\n",
    "# inmwv_df['wind_speed'] = inmwv_df['wind_speed'].astype(float)\n",
    "# inmwv_df['wind_angle'] = inmwv_df['wind_angle'].astype(float)\n",
    "# inmwv_df['status'] = inmwv_df['status'].astype(str)"
   ]
  },
  {
   "cell_type": "code",
   "execution_count": 58,
   "metadata": {},
   "outputs": [],
   "source": [
    "# pd.merge(time_range, inmwv_df[inmwv_df.reference!='R'].drop_duplicates('datetime').set_index('datetime'),\n",
    "#                    how='outer', left_index=True, right_index=True)"
   ]
  },
  {
   "cell_type": "code",
   "execution_count": 59,
   "metadata": {},
   "outputs": [],
   "source": [
    "dataframes = [gga_df, inmwv_df, hdt_df]"
   ]
  },
  {
   "cell_type": "code",
   "execution_count": 61,
   "metadata": {},
   "outputs": [],
   "source": [
    "df0 = time_range\n",
    "for df in dataframes:\n",
    "    df0 = pd.merge(df0, df.drop_duplicates('datetime').set_index('datetime'),\n",
    "                   how='outer', left_index=True, right_index=True)\n",
    "df0 = df0.drop('time', axis=1).drop('timestamp', axis=1)"
   ]
  }
 ],
 "metadata": {
  "kernelspec": {
   "display_name": "Python [conda env:igp]",
   "language": "python",
   "name": "conda-env-igp-py"
  },
  "language_info": {
   "codemirror_mode": {
    "name": "ipython",
    "version": 3
   },
   "file_extension": ".py",
   "mimetype": "text/x-python",
   "name": "python",
   "nbconvert_exporter": "python",
   "pygments_lexer": "ipython3",
   "version": "3.6.5"
  }
 },
 "nbformat": 4,
 "nbformat_minor": 2
}
